{
 "cells": [
  {
   "cell_type": "code",
   "execution_count": 17,
   "id": "16b164d9-66d6-46f8-939f-c0ae2d01fa1c",
   "metadata": {},
   "outputs": [
    {
     "data": {
      "text/html": [
       "<div>\n",
       "<style scoped>\n",
       "    .dataframe tbody tr th:only-of-type {\n",
       "        vertical-align: middle;\n",
       "    }\n",
       "\n",
       "    .dataframe tbody tr th {\n",
       "        vertical-align: top;\n",
       "    }\n",
       "\n",
       "    .dataframe thead th {\n",
       "        text-align: right;\n",
       "    }\n",
       "</style>\n",
       "<table border=\"1\" class=\"dataframe\">\n",
       "  <thead>\n",
       "    <tr style=\"text-align: right;\">\n",
       "      <th></th>\n",
       "      <th>Date</th>\n",
       "      <th>Open</th>\n",
       "      <th>High</th>\n",
       "      <th>Low</th>\n",
       "      <th>Close</th>\n",
       "      <th>Adj Close</th>\n",
       "      <th>Volume</th>\n",
       "    </tr>\n",
       "  </thead>\n",
       "  <tbody>\n",
       "    <tr>\n",
       "      <th>0</th>\n",
       "      <td>2019-03-31</td>\n",
       "      <td>232.679998</td>\n",
       "      <td>240.076665</td>\n",
       "      <td>232.113332</td>\n",
       "      <td>237.766668</td>\n",
       "      <td>217.920679</td>\n",
       "      <td>1.067873e+07</td>\n",
       "    </tr>\n",
       "    <tr>\n",
       "      <th>1</th>\n",
       "      <td>2019-04-30</td>\n",
       "      <td>244.324002</td>\n",
       "      <td>247.131998</td>\n",
       "      <td>241.129999</td>\n",
       "      <td>244.413998</td>\n",
       "      <td>224.013175</td>\n",
       "      <td>7.268780e+06</td>\n",
       "    </tr>\n",
       "    <tr>\n",
       "      <th>2</th>\n",
       "      <td>2019-05-31</td>\n",
       "      <td>245.674999</td>\n",
       "      <td>249.952499</td>\n",
       "      <td>239.670002</td>\n",
       "      <td>245.562504</td>\n",
       "      <td>225.520779</td>\n",
       "      <td>9.040125e+06</td>\n",
       "    </tr>\n",
       "    <tr>\n",
       "      <th>3</th>\n",
       "      <td>2019-06-30</td>\n",
       "      <td>256.154999</td>\n",
       "      <td>263.677505</td>\n",
       "      <td>254.317497</td>\n",
       "      <td>261.637505</td>\n",
       "      <td>240.446663</td>\n",
       "      <td>8.592350e+06</td>\n",
       "    </tr>\n",
       "    <tr>\n",
       "      <th>4</th>\n",
       "      <td>2019-07-31</td>\n",
       "      <td>275.385999</td>\n",
       "      <td>279.417999</td>\n",
       "      <td>271.486005</td>\n",
       "      <td>276.614001</td>\n",
       "      <td>254.210135</td>\n",
       "      <td>7.345160e+06</td>\n",
       "    </tr>\n",
       "    <tr>\n",
       "      <th>...</th>\n",
       "      <td>...</td>\n",
       "      <td>...</td>\n",
       "      <td>...</td>\n",
       "      <td>...</td>\n",
       "      <td>...</td>\n",
       "      <td>...</td>\n",
       "      <td>...</td>\n",
       "    </tr>\n",
       "    <tr>\n",
       "      <th>56</th>\n",
       "      <td>2023-11-30</td>\n",
       "      <td>576.337509</td>\n",
       "      <td>592.980011</td>\n",
       "      <td>573.135010</td>\n",
       "      <td>585.470001</td>\n",
       "      <td>571.611923</td>\n",
       "      <td>7.632150e+06</td>\n",
       "    </tr>\n",
       "    <tr>\n",
       "      <th>57</th>\n",
       "      <td>2023-12-31</td>\n",
       "      <td>637.907501</td>\n",
       "      <td>658.314987</td>\n",
       "      <td>631.707504</td>\n",
       "      <td>650.320007</td>\n",
       "      <td>634.926941</td>\n",
       "      <td>1.326775e+07</td>\n",
       "    </tr>\n",
       "    <tr>\n",
       "      <th>58</th>\n",
       "      <td>2024-01-31</td>\n",
       "      <td>675.992004</td>\n",
       "      <td>690.488000</td>\n",
       "      <td>666.984009</td>\n",
       "      <td>686.115991</td>\n",
       "      <td>685.108850</td>\n",
       "      <td>9.719360e+06</td>\n",
       "    </tr>\n",
       "    <tr>\n",
       "      <th>59</th>\n",
       "      <td>2024-02-29</td>\n",
       "      <td>726.047516</td>\n",
       "      <td>738.074997</td>\n",
       "      <td>718.162506</td>\n",
       "      <td>733.690002</td>\n",
       "      <td>733.690002</td>\n",
       "      <td>8.582500e+06</td>\n",
       "    </tr>\n",
       "    <tr>\n",
       "      <th>60</th>\n",
       "      <td>2024-03-31</td>\n",
       "      <td>737.445007</td>\n",
       "      <td>753.540008</td>\n",
       "      <td>718.054993</td>\n",
       "      <td>719.820007</td>\n",
       "      <td>719.820007</td>\n",
       "      <td>1.170335e+07</td>\n",
       "    </tr>\n",
       "  </tbody>\n",
       "</table>\n",
       "<p>61 rows × 7 columns</p>\n",
       "</div>"
      ],
      "text/plain": [
       "         Date        Open        High         Low       Close   Adj Close  \\\n",
       "0  2019-03-31  232.679998  240.076665  232.113332  237.766668  217.920679   \n",
       "1  2019-04-30  244.324002  247.131998  241.129999  244.413998  224.013175   \n",
       "2  2019-05-31  245.674999  249.952499  239.670002  245.562504  225.520779   \n",
       "3  2019-06-30  256.154999  263.677505  254.317497  261.637505  240.446663   \n",
       "4  2019-07-31  275.385999  279.417999  271.486005  276.614001  254.210135   \n",
       "..        ...         ...         ...         ...         ...         ...   \n",
       "56 2023-11-30  576.337509  592.980011  573.135010  585.470001  571.611923   \n",
       "57 2023-12-31  637.907501  658.314987  631.707504  650.320007  634.926941   \n",
       "58 2024-01-31  675.992004  690.488000  666.984009  686.115991  685.108850   \n",
       "59 2024-02-29  726.047516  738.074997  718.162506  733.690002  733.690002   \n",
       "60 2024-03-31  737.445007  753.540008  718.054993  719.820007  719.820007   \n",
       "\n",
       "          Volume  \n",
       "0   1.067873e+07  \n",
       "1   7.268780e+06  \n",
       "2   9.040125e+06  \n",
       "3   8.592350e+06  \n",
       "4   7.345160e+06  \n",
       "..           ...  \n",
       "56  7.632150e+06  \n",
       "57  1.326775e+07  \n",
       "58  9.719360e+06  \n",
       "59  8.582500e+06  \n",
       "60  1.170335e+07  \n",
       "\n",
       "[61 rows x 7 columns]"
      ]
     },
     "metadata": {},
     "output_type": "display_data"
    }
   ],
   "source": [
    "# Create libraries\n",
    "import pandas as pd\n",
    "import matplotlib.pyplot as plt\n",
    "\n",
    "# Read the CSV file into a DataFrame\n",
    "df = pd.read_csv('COST.csv')\n",
    "\n",
    "# Convert the 'Date' column to datetime format\n",
    "df['Date'] = pd.to_datetime(df['Date'])\n",
    "\n",
    "# Set the 'Date' column as the index\n",
    "df.set_index('Date', inplace=True)\n",
    "\n",
    "# Resample the data to monthly frequency and calculate the mean\n",
    "monthly_df = df.resample('M').mean()\n",
    "\n",
    "# Reset index to make 'Date' a column again\n",
    "monthly_df.reset_index(inplace=True)\n",
    "\n",
    "# Display the \"raw\" values\n",
    "display(monthly_df)"
   ]
  },
  {
   "cell_type": "code",
   "execution_count": 18,
   "id": "379f6586-dbcf-4cc6-b49a-ddf2f0b83e09",
   "metadata": {},
   "outputs": [
    {
     "data": {
      "text/html": [
       "<div>\n",
       "<style scoped>\n",
       "    .dataframe tbody tr th:only-of-type {\n",
       "        vertical-align: middle;\n",
       "    }\n",
       "\n",
       "    .dataframe tbody tr th {\n",
       "        vertical-align: top;\n",
       "    }\n",
       "\n",
       "    .dataframe thead th {\n",
       "        text-align: right;\n",
       "    }\n",
       "</style>\n",
       "<table border=\"1\" class=\"dataframe\">\n",
       "  <thead>\n",
       "    <tr style=\"text-align: right;\">\n",
       "      <th></th>\n",
       "      <th>Date</th>\n",
       "      <th>Open</th>\n",
       "      <th>Close</th>\n",
       "      <th>Price_Difference</th>\n",
       "      <th>Percentage_Change</th>\n",
       "    </tr>\n",
       "  </thead>\n",
       "  <tbody>\n",
       "    <tr>\n",
       "      <th>0</th>\n",
       "      <td>2019-03-31</td>\n",
       "      <td>227.529999</td>\n",
       "      <td>242.139999</td>\n",
       "      <td>14.610000</td>\n",
       "      <td>6.421131</td>\n",
       "    </tr>\n",
       "    <tr>\n",
       "      <th>1</th>\n",
       "      <td>2019-04-30</td>\n",
       "      <td>243.070007</td>\n",
       "      <td>244.619995</td>\n",
       "      <td>1.549988</td>\n",
       "      <td>0.637671</td>\n",
       "    </tr>\n",
       "    <tr>\n",
       "      <th>2</th>\n",
       "      <td>2019-05-31</td>\n",
       "      <td>242.850006</td>\n",
       "      <td>239.580002</td>\n",
       "      <td>-3.270004</td>\n",
       "      <td>-1.346512</td>\n",
       "    </tr>\n",
       "    <tr>\n",
       "      <th>3</th>\n",
       "      <td>2019-06-30</td>\n",
       "      <td>239.779999</td>\n",
       "      <td>264.260010</td>\n",
       "      <td>24.480011</td>\n",
       "      <td>10.209363</td>\n",
       "    </tr>\n",
       "    <tr>\n",
       "      <th>4</th>\n",
       "      <td>2019-07-31</td>\n",
       "      <td>266.429993</td>\n",
       "      <td>272.500000</td>\n",
       "      <td>6.070007</td>\n",
       "      <td>2.278275</td>\n",
       "    </tr>\n",
       "    <tr>\n",
       "      <th>...</th>\n",
       "      <td>...</td>\n",
       "      <td>...</td>\n",
       "      <td>...</td>\n",
       "      <td>...</td>\n",
       "      <td>...</td>\n",
       "    </tr>\n",
       "    <tr>\n",
       "      <th>56</th>\n",
       "      <td>2023-11-30</td>\n",
       "      <td>560.489990</td>\n",
       "      <td>596.250000</td>\n",
       "      <td>35.760010</td>\n",
       "      <td>6.380134</td>\n",
       "    </tr>\n",
       "    <tr>\n",
       "      <th>57</th>\n",
       "      <td>2023-12-31</td>\n",
       "      <td>592.150024</td>\n",
       "      <td>660.080017</td>\n",
       "      <td>67.929993</td>\n",
       "      <td>11.471754</td>\n",
       "    </tr>\n",
       "    <tr>\n",
       "      <th>58</th>\n",
       "      <td>2024-01-31</td>\n",
       "      <td>655.580017</td>\n",
       "      <td>709.479980</td>\n",
       "      <td>53.899963</td>\n",
       "      <td>8.221721</td>\n",
       "    </tr>\n",
       "    <tr>\n",
       "      <th>59</th>\n",
       "      <td>2024-02-29</td>\n",
       "      <td>710.640015</td>\n",
       "      <td>749.440002</td>\n",
       "      <td>38.799987</td>\n",
       "      <td>5.459865</td>\n",
       "    </tr>\n",
       "    <tr>\n",
       "      <th>60</th>\n",
       "      <td>2024-03-31</td>\n",
       "      <td>755.080017</td>\n",
       "      <td>714.080017</td>\n",
       "      <td>-41.000000</td>\n",
       "      <td>-5.429888</td>\n",
       "    </tr>\n",
       "  </tbody>\n",
       "</table>\n",
       "<p>61 rows × 5 columns</p>\n",
       "</div>"
      ],
      "text/plain": [
       "         Date        Open       Close  Price_Difference  Percentage_Change\n",
       "0  2019-03-31  227.529999  242.139999         14.610000           6.421131\n",
       "1  2019-04-30  243.070007  244.619995          1.549988           0.637671\n",
       "2  2019-05-31  242.850006  239.580002         -3.270004          -1.346512\n",
       "3  2019-06-30  239.779999  264.260010         24.480011          10.209363\n",
       "4  2019-07-31  266.429993  272.500000          6.070007           2.278275\n",
       "..        ...         ...         ...               ...                ...\n",
       "56 2023-11-30  560.489990  596.250000         35.760010           6.380134\n",
       "57 2023-12-31  592.150024  660.080017         67.929993          11.471754\n",
       "58 2024-01-31  655.580017  709.479980         53.899963           8.221721\n",
       "59 2024-02-29  710.640015  749.440002         38.799987           5.459865\n",
       "60 2024-03-31  755.080017  714.080017        -41.000000          -5.429888\n",
       "\n",
       "[61 rows x 5 columns]"
      ]
     },
     "metadata": {},
     "output_type": "display_data"
    }
   ],
   "source": [
    "# Calculate Percentage Change in Stock Price\n",
    "\n",
    "# Read the daily stock data from the CSV file\n",
    "stock_data = pd.read_csv('COST.csv')\n",
    "\n",
    "# Convert the date column to datetime format\n",
    "stock_data['Date'] = pd.to_datetime(stock_data['Date'])\n",
    "\n",
    "# Group the data by month\n",
    "monthly_data = stock_data.groupby(pd.Grouper(key='Date', freq='M')).agg({\n",
    "    'Open': 'first',\n",
    "    'Close': 'last'\n",
    "}).reset_index()\n",
    "\n",
    "# Calculate the price difference between closing and opening prices\n",
    "monthly_data['Price_Difference'] = monthly_data['Close'] - monthly_data['Open']\n",
    "\n",
    "# Calculate the percentage change\n",
    "monthly_data['Percentage_Change'] = (monthly_data['Price_Difference'] / monthly_data['Open']) * 100\n",
    "\n",
    "# Display the percentage change\n",
    "display(monthly_data)"
   ]
  },
  {
   "cell_type": "code",
   "execution_count": 19,
   "id": "a4622580-e23e-421f-8ce7-b8963a5894c9",
   "metadata": {},
   "outputs": [
    {
     "data": {
      "image/png": "[encoded data removed]",
      "text/plain": [
       "<Figure size 1000x600 with 1 Axes>"
      ]
     },
     "metadata": {},
     "output_type": "display_data"
    }
   ],
   "source": [
    "# Plot the percentage change as a graph\n",
    "\n",
    "plt.figure(figsize=(10, 6))\n",
    "plt.plot(monthly_data['Date'], monthly_data['Percentage_Change'], marker='o', color='b', linestyle='-')\n",
    "plt.title('Monthly Percentage Change in Stock Prices for CostCo')\n",
    "plt.xlabel('Date')\n",
    "plt.ylabel('Percentage Change (%)')\n",
    "plt.grid(True)\n",
    "plt.xticks(rotation=45)\n",
    "plt.tight_layout()\n",
    "plt.show()"
   ]
  },
  {
   "cell_type": "code",
   "execution_count": 20,
   "id": "d80c2439-9ba4-430e-aed7-b741574a3ec0",
   "metadata": {},
   "outputs": [
    {
     "name": "stdout",
     "output_type": "stream",
     "text": [
      "The opening stock price on 2019-03-11 was: 227.529999\n"
     ]
    }
   ],
   "source": [
    "# Get the original Opening Price\n",
    "\n",
    "# Read the CSV file into a DataFrame\n",
    "df = pd.read_csv(\"COST.csv\")\n",
    "\n",
    "# Enter Desired Date\n",
    "desired_date = '2019-03-11'\n",
    "\n",
    "# Filter the DataFrame by the desired date\n",
    "desired_row = df[df['Date'] == desired_date]\n",
    "\n",
    "# Check if any row matched the desired date\n",
    "if not desired_row.empty:\n",
    "    # Retrieve the opening price from the desired row\n",
    "    opening_price = desired_row['Open'].values[0]\n",
    "    print(f\"The opening stock price on {desired_date} was: {opening_price}\")\n",
    "else:\n",
    "    print(f\"No data found for {desired_date}.\")\n",
    "\n",
    "# Save the original opening price\n",
    "original_opening_price = opening_price"
   ]
  },
  {
   "cell_type": "code",
   "execution_count": 21,
   "id": "34cf2465-2fb7-4b5e-9b2c-641d78eb8202",
   "metadata": {},
   "outputs": [
    {
     "name": "stdout",
     "output_type": "stream",
     "text": [
      "The closing stock price on 2024-03-11 was: 714.080017\n"
     ]
    }
   ],
   "source": [
    "# Get the Closing Price after 60 Months\n",
    "\n",
    "# Read the CSV file into a DataFrame\n",
    "df = pd.read_csv(\"COST.csv\")\n",
    "\n",
    "# Enter Desired Date\n",
    "desired_date = '2024-03-11'\n",
    "\n",
    "# Filter the DataFrame by the desired date\n",
    "desired_row = df[df['Date'] == desired_date]\n",
    "\n",
    "# Check if any row matched the desired date\n",
    "if not desired_row.empty:\n",
    "    # Retrieve the opening price from the desired row\n",
    "    closing_price = desired_row['Close'].values[0]\n",
    "    print(f\"The closing stock price on {desired_date} was: {closing_price}\")\n",
    "else:\n",
    "    print(f\"No data found for {desired_date}.\")\n",
    "\n",
    "# Save this closing price\n",
    "closing_price_after_60_months = closing_price"
   ]
  },
  {
   "cell_type": "code",
   "execution_count": 22,
   "id": "9fd0d398-6bae-4048-91f6-31b87e693c99",
   "metadata": {},
   "outputs": [
    {
     "data": {
      "text/plain": [
       "array([213.83994205])"
      ]
     },
     "metadata": {},
     "output_type": "display_data"
    }
   ],
   "source": [
    "# Calculate % Change in stock price for this period\n",
    "\n",
    "Percentage_change_after_60_months = ([closing_price_after_60_months - original_opening_price] / original_opening_price) * 100\n",
    "display(Percentage_change_after_60_months)"
   ]
  },
  {
   "cell_type": "code",
   "execution_count": 23,
   "id": "90b8f715-459b-437f-8b96-918b70115934",
   "metadata": {},
   "outputs": [
    {
     "name": "stdout",
     "output_type": "stream",
     "text": [
      "The closing stock price on 2023-03-13 was: 487.049988\n"
     ]
    }
   ],
   "source": [
    "# Get the Closing Price after 48 Months\n",
    "\n",
    "# Read the CSV file into a DataFrame\n",
    "df = pd.read_csv(\"COST.csv\")\n",
    "\n",
    "# Enter Desired Date\n",
    "desired_date = '2023-03-13'\n",
    "\n",
    "# Filter the DataFrame by the desired date\n",
    "desired_row = df[df['Date'] == desired_date]\n",
    "\n",
    "# Check if any row matched the desired date\n",
    "if not desired_row.empty:\n",
    "    # Retrieve the opening price from the desired row\n",
    "    closing_price = desired_row['Close'].values[0]\n",
    "    print(f\"The closing stock price on {desired_date} was: {closing_price}\")\n",
    "else:\n",
    "    print(f\"No data found for {desired_date}.\")\n",
    "\n",
    "# Save this ing price\n",
    "closing_price_after_48_months = closing_price"
   ]
  },
  {
   "cell_type": "code",
   "execution_count": 24,
   "id": "fada5345-b68d-49fd-bfee-cb94a3deb4ed",
   "metadata": {},
   "outputs": [
    {
     "data": {
      "text/plain": [
       "array([114.0596801])"
      ]
     },
     "metadata": {},
     "output_type": "display_data"
    }
   ],
   "source": [
    "# Calculate % Change in stock price for this period\n",
    "\n",
    "Percentage_change_after_48_months = ([closing_price_after_48_months - original_opening_price] / original_opening_price) * 100\n",
    "display(Percentage_change_after_48_months)"
   ]
  },
  {
   "cell_type": "code",
   "execution_count": 25,
   "id": "5741032f-0bfa-4229-b4cf-d0609a88b8cb",
   "metadata": {},
   "outputs": [
    {
     "name": "stdout",
     "output_type": "stream",
     "text": [
      "The closing stock price on 2022-03-14 was: 561.349976\n"
     ]
    }
   ],
   "source": [
    "# Get the Closing Price after 36 Months\n",
    "\n",
    "# Read the CSV file into a DataFrame\n",
    "df = pd.read_csv(\"COST.csv\")\n",
    "\n",
    "# Enter Desired Date\n",
    "desired_date = '2022-03-14'\n",
    "\n",
    "# Filter the DataFrame by the desired date\n",
    "desired_row = df[df['Date'] == desired_date]\n",
    "\n",
    "# Check if any row matched the desired date\n",
    "if not desired_row.empty:\n",
    "    # Retrieve the opening price from the desired row\n",
    "    closing_price = desired_row['Close'].values[0]\n",
    "    print(f\"The closing stock price on {desired_date} was: {closing_price}\")\n",
    "else:\n",
    "    print(f\"No data found for {desired_date}.\")\n",
    "\n",
    "# Save this closing price\n",
    "closing_price_after_36_months = closing_price"
   ]
  },
  {
   "cell_type": "code",
   "execution_count": 26,
   "id": "1269a4e9-9448-494c-b51b-2d32a04b8908",
   "metadata": {},
   "outputs": [
    {
     "data": {
      "text/plain": [
       "array([146.71470947])"
      ]
     },
     "metadata": {},
     "output_type": "display_data"
    }
   ],
   "source": [
    "# Calculate % Change in stock price for this period\n",
    "\n",
    "Percentage_change_after_36_months = ([closing_price_after_36_months - original_opening_price] / original_opening_price) * 100\n",
    "\n",
    "display(Percentage_change_after_36_months)"
   ]
  },
  {
   "cell_type": "code",
   "execution_count": 27,
   "id": "10c4e3c2-a5e8-4179-8594-606e36dd517c",
   "metadata": {},
   "outputs": [
    {
     "name": "stdout",
     "output_type": "stream",
     "text": [
      "The closing stock price on 2021-03-15 was: 328.910004\n"
     ]
    }
   ],
   "source": [
    "# Get the Closing Price after 24 Months\n",
    "\n",
    "# Read the CSV file into a DataFrame\n",
    "df = pd.read_csv(\"COST.csv\")\n",
    "\n",
    "# Enter Desired Date\n",
    "desired_date = '2021-03-15'\n",
    "\n",
    "# Filter the DataFrame by the desired date\n",
    "desired_row = df[df['Date'] == desired_date]\n",
    "\n",
    "# Check if any row matched the desired date\n",
    "if not desired_row.empty:\n",
    "    # Retrieve the opening price from the desired row\n",
    "    closing_price = desired_row['Close'].values[0]\n",
    "    print(f\"The closing stock price on {desired_date} was: {closing_price}\")\n",
    "else:\n",
    "    print(f\"No data found for {desired_date}.\")\n",
    "\n",
    "# Save this closing price\n",
    "closing_price_after_24_months = closing_price"
   ]
  },
  {
   "cell_type": "code",
   "execution_count": 28,
   "id": "13f0cd95-26ea-4a05-8049-f2d08066789e",
   "metadata": {},
   "outputs": [
    {
     "data": {
      "text/plain": [
       "array([44.55676414])"
      ]
     },
     "metadata": {},
     "output_type": "display_data"
    }
   ],
   "source": [
    "# Calculate % Change in stock price for this period\n",
    "\n",
    "Percentage_change_after_24_months = ([closing_price_after_24_months - original_opening_price] / original_opening_price) * 100\n",
    "display(Percentage_change_after_24_months)"
   ]
  },
  {
   "cell_type": "code",
   "execution_count": 29,
   "id": "8bfb2607-3a5a-4ea2-8704-43f961f7679f",
   "metadata": {},
   "outputs": [
    {
     "name": "stdout",
     "output_type": "stream",
     "text": [
      "The closing stock price on 2020-03-09 was: 302.269989\n"
     ]
    }
   ],
   "source": [
    "# Get the Closing Price after 12 Months\n",
    "\n",
    "# Read the CSV file into a DataFrame\n",
    "df = pd.read_csv(\"COST.csv\")\n",
    "\n",
    "# Enter Desired Date\n",
    "desired_date = '2020-03-09'\n",
    "\n",
    "# Filter the DataFrame by the desired date\n",
    "desired_row = df[df['Date'] == desired_date]\n",
    "\n",
    "# Check if any row matched the desired date\n",
    "if not desired_row.empty:\n",
    "    # Retrieve the opening price from the desired row\n",
    "    closing_price = desired_row['Close'].values[0]\n",
    "    print(f\"The closing stock price on {desired_date} was: {closing_price}\")\n",
    "else:\n",
    "    print(f\"No data found for {desired_date}.\")\n",
    "\n",
    "# Save this closing price\n",
    "closing_price_after_12_months = closing_price"
   ]
  },
  {
   "cell_type": "code",
   "execution_count": 30,
   "id": "55786fb0-b276-448a-a63a-c796ffbcfe98",
   "metadata": {},
   "outputs": [
    {
     "data": {
      "text/plain": [
       "array([32.84841134])"
      ]
     },
     "metadata": {},
     "output_type": "display_data"
    }
   ],
   "source": [
    "# Calculate % Change in stock price for this period\n",
    "\n",
    "Percentage_change_after_12_months = ([closing_price_after_12_months - original_opening_price] / original_opening_price) * 100\n",
    "display(Percentage_change_after_12_months)"
   ]
  },
  {
   "cell_type": "code",
   "execution_count": 32,
   "id": "f852e5f1-c0f9-49f7-90af-dbc003cd6f2c",
   "metadata": {},
   "outputs": [
    {
     "data": {
      "image/png": "[encoded data removed]",
      "text/plain": [
       "<Figure size 640x480 with 1 Axes>"
      ]
     },
     "metadata": {},
     "output_type": "display_data"
    }
   ],
   "source": [
    "import matplotlib.pyplot as plt\n",
    "\n",
    "# Example data: percentage changes after 12, 24, and 36 months\n",
    "months = ['After 12 Months', 'After 24 Months', 'After 36 Months', 'After 48 Months', 'After 60 Months']\n",
    "percentage_changes = [32.84841134,  44.55676414, 146.71470947, 114.0596801, 213.83994205]\n",
    "\n",
    "# Plotting the bar chart\n",
    "plt.bar(months, percentage_changes, color='skyblue')\n",
    "\n",
    "# Adding labels and title\n",
    "plt.xlabel('Length of Investment')\n",
    "plt.xticks(rotation=90)\n",
    "plt.ylabel('Percentage Change')\n",
    "plt.title('Percentage Change to Stock Price for CostCo over Time')\n",
    "\n",
    "# Display the plot\n",
    "plt.show()"
   ]
  },
  {
   "cell_type": "code",
   "execution_count": null,
   "id": "ae926b40-961c-49de-b95c-18cd97987640",
   "metadata": {},
   "outputs": [],
   "source": []
  }
 ],
 "metadata": {
  "kernelspec": {
   "display_name": "Python 3 (ipykernel)",
   "language": "python",
   "name": "python3"
  },
  "language_info": {
   "codemirror_mode": {
    "name": "ipython",
    "version": 3
   },
   "file_extension": ".py",
   "mimetype": "text/x-python",
   "name": "python",
   "nbconvert_exporter": "python",
   "pygments_lexer": "ipython3",
   "version": "3.10.13"
  },
  "widgets": {
   "application/vnd.jupyter.widget-state+json": {
    "state": {},
    "version_major": 2,
    "version_minor": 0
   }
  }
 },
 "nbformat": 4,
 "nbformat_minor": 5
}
