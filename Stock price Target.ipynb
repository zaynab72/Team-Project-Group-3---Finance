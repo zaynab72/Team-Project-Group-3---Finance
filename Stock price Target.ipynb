{
 "cells": [
  {
   "cell_type": "code",
   "execution_count": 1,
   "id": "16b164d9-66d6-46f8-939f-c0ae2d01fa1c",
   "metadata": {},
   "outputs": [
    {
     "data": {
      "text/html": [
       "<div>\n",
       "<style scoped>\n",
       "    .dataframe tbody tr th:only-of-type {\n",
       "        vertical-align: middle;\n",
       "    }\n",
       "\n",
       "    .dataframe tbody tr th {\n",
       "        vertical-align: top;\n",
       "    }\n",
       "\n",
       "    .dataframe thead th {\n",
       "        text-align: right;\n",
       "    }\n",
       "</style>\n",
       "<table border=\"1\" class=\"dataframe\">\n",
       "  <thead>\n",
       "    <tr style=\"text-align: right;\">\n",
       "      <th></th>\n",
       "      <th>Date</th>\n",
       "      <th>Open</th>\n",
       "      <th>High</th>\n",
       "      <th>Low</th>\n",
       "      <th>Close</th>\n",
       "      <th>Adj Close</th>\n",
       "      <th>Volume</th>\n",
       "    </tr>\n",
       "  </thead>\n",
       "  <tbody>\n",
       "    <tr>\n",
       "      <th>0</th>\n",
       "      <td>2019-03-31</td>\n",
       "      <td>77.016665</td>\n",
       "      <td>79.620000</td>\n",
       "      <td>76.803334</td>\n",
       "      <td>78.413335</td>\n",
       "      <td>69.800931</td>\n",
       "      <td>20055000.0</td>\n",
       "    </tr>\n",
       "    <tr>\n",
       "      <th>1</th>\n",
       "      <td>2019-04-30</td>\n",
       "      <td>80.788001</td>\n",
       "      <td>81.884003</td>\n",
       "      <td>78.008002</td>\n",
       "      <td>79.598002</td>\n",
       "      <td>70.855480</td>\n",
       "      <td>21619280.0</td>\n",
       "    </tr>\n",
       "    <tr>\n",
       "      <th>2</th>\n",
       "      <td>2019-05-31</td>\n",
       "      <td>75.372500</td>\n",
       "      <td>78.397501</td>\n",
       "      <td>73.299999</td>\n",
       "      <td>76.887499</td>\n",
       "      <td>68.767502</td>\n",
       "      <td>31097900.0</td>\n",
       "    </tr>\n",
       "    <tr>\n",
       "      <th>3</th>\n",
       "      <td>2019-06-30</td>\n",
       "      <td>85.714998</td>\n",
       "      <td>88.292500</td>\n",
       "      <td>84.620001</td>\n",
       "      <td>87.212500</td>\n",
       "      <td>78.333059</td>\n",
       "      <td>23414075.0</td>\n",
       "    </tr>\n",
       "    <tr>\n",
       "      <th>4</th>\n",
       "      <td>2019-07-31</td>\n",
       "      <td>87.812003</td>\n",
       "      <td>88.882001</td>\n",
       "      <td>85.108000</td>\n",
       "      <td>86.551999</td>\n",
       "      <td>77.739807</td>\n",
       "      <td>19300920.0</td>\n",
       "    </tr>\n",
       "    <tr>\n",
       "      <th>...</th>\n",
       "      <td>...</td>\n",
       "      <td>...</td>\n",
       "      <td>...</td>\n",
       "      <td>...</td>\n",
       "      <td>...</td>\n",
       "      <td>...</td>\n",
       "      <td>...</td>\n",
       "    </tr>\n",
       "    <tr>\n",
       "      <th>56</th>\n",
       "      <td>2023-11-30</td>\n",
       "      <td>120.627500</td>\n",
       "      <td>128.070000</td>\n",
       "      <td>117.737499</td>\n",
       "      <td>126.115002</td>\n",
       "      <td>124.581697</td>\n",
       "      <td>30240275.0</td>\n",
       "    </tr>\n",
       "    <tr>\n",
       "      <th>57</th>\n",
       "      <td>2023-12-31</td>\n",
       "      <td>137.332501</td>\n",
       "      <td>140.597496</td>\n",
       "      <td>135.707496</td>\n",
       "      <td>139.044998</td>\n",
       "      <td>138.022671</td>\n",
       "      <td>17170250.0</td>\n",
       "    </tr>\n",
       "    <tr>\n",
       "      <th>58</th>\n",
       "      <td>2024-01-31</td>\n",
       "      <td>141.141998</td>\n",
       "      <td>144.239999</td>\n",
       "      <td>137.438001</td>\n",
       "      <td>141.564001</td>\n",
       "      <td>140.523154</td>\n",
       "      <td>16011520.0</td>\n",
       "    </tr>\n",
       "    <tr>\n",
       "      <th>59</th>\n",
       "      <td>2024-02-29</td>\n",
       "      <td>148.087502</td>\n",
       "      <td>151.952495</td>\n",
       "      <td>145.540005</td>\n",
       "      <td>150.727497</td>\n",
       "      <td>149.904717</td>\n",
       "      <td>15871100.0</td>\n",
       "    </tr>\n",
       "    <tr>\n",
       "      <th>60</th>\n",
       "      <td>2024-03-31</td>\n",
       "      <td>161.690002</td>\n",
       "      <td>173.055001</td>\n",
       "      <td>158.384995</td>\n",
       "      <td>168.895004</td>\n",
       "      <td>168.895004</td>\n",
       "      <td>25593500.0</td>\n",
       "    </tr>\n",
       "  </tbody>\n",
       "</table>\n",
       "<p>61 rows × 7 columns</p>\n",
       "</div>"
      ],
      "text/plain": [
       "         Date        Open        High         Low       Close   Adj Close  \\\n",
       "0  2019-03-31   77.016665   79.620000   76.803334   78.413335   69.800931   \n",
       "1  2019-04-30   80.788001   81.884003   78.008002   79.598002   70.855480   \n",
       "2  2019-05-31   75.372500   78.397501   73.299999   76.887499   68.767502   \n",
       "3  2019-06-30   85.714998   88.292500   84.620001   87.212500   78.333059   \n",
       "4  2019-07-31   87.812003   88.882001   85.108000   86.551999   77.739807   \n",
       "..        ...         ...         ...         ...         ...         ...   \n",
       "56 2023-11-30  120.627500  128.070000  117.737499  126.115002  124.581697   \n",
       "57 2023-12-31  137.332501  140.597496  135.707496  139.044998  138.022671   \n",
       "58 2024-01-31  141.141998  144.239999  137.438001  141.564001  140.523154   \n",
       "59 2024-02-29  148.087502  151.952495  145.540005  150.727497  149.904717   \n",
       "60 2024-03-31  161.690002  173.055001  158.384995  168.895004  168.895004   \n",
       "\n",
       "        Volume  \n",
       "0   20055000.0  \n",
       "1   21619280.0  \n",
       "2   31097900.0  \n",
       "3   23414075.0  \n",
       "4   19300920.0  \n",
       "..         ...  \n",
       "56  30240275.0  \n",
       "57  17170250.0  \n",
       "58  16011520.0  \n",
       "59  15871100.0  \n",
       "60  25593500.0  \n",
       "\n",
       "[61 rows x 7 columns]"
      ]
     },
     "metadata": {},
     "output_type": "display_data"
    }
   ],
   "source": [
    "# Create libraries\n",
    "import pandas as pd\n",
    "import matplotlib.pyplot as plt\n",
    "\n",
    "# Read the CSV file into a DataFrame\n",
    "df = pd.read_csv('../data/TGT.csv')\n",
    "\n",
    "# Convert the 'Date' column to datetime format\n",
    "df['Date'] = pd.to_datetime(df['Date'])\n",
    "\n",
    "# Set the 'Date' column as the index\n",
    "df.set_index('Date', inplace=True)\n",
    "\n",
    "# Resample the data to monthly frequency and calculate the mean\n",
    "monthly_df = df.resample('M').mean()\n",
    "\n",
    "# Reset index to make 'Date' a column again\n",
    "monthly_df.reset_index(inplace=True)\n",
    "\n",
    "# Display the \"raw\" values\n",
    "display(monthly_df)"
   ]
  },
  {
   "cell_type": "code",
   "execution_count": 2,
   "id": "379f6586-dbcf-4cc6-b49a-ddf2f0b83e09",
   "metadata": {},
   "outputs": [
    {
     "data": {
      "text/html": [
       "<div>\n",
       "<style scoped>\n",
       "    .dataframe tbody tr th:only-of-type {\n",
       "        vertical-align: middle;\n",
       "    }\n",
       "\n",
       "    .dataframe tbody tr th {\n",
       "        vertical-align: top;\n",
       "    }\n",
       "\n",
       "    .dataframe thead th {\n",
       "        text-align: right;\n",
       "    }\n",
       "</style>\n",
       "<table border=\"1\" class=\"dataframe\">\n",
       "  <thead>\n",
       "    <tr style=\"text-align: right;\">\n",
       "      <th></th>\n",
       "      <th>Date</th>\n",
       "      <th>Open</th>\n",
       "      <th>Close</th>\n",
       "      <th>Price_Difference</th>\n",
       "      <th>Percentage_Change</th>\n",
       "    </tr>\n",
       "  </thead>\n",
       "  <tbody>\n",
       "    <tr>\n",
       "      <th>0</th>\n",
       "      <td>2019-03-31</td>\n",
       "      <td>75.820000</td>\n",
       "      <td>80.260002</td>\n",
       "      <td>4.440002</td>\n",
       "      <td>5.855977</td>\n",
       "    </tr>\n",
       "    <tr>\n",
       "      <th>1</th>\n",
       "      <td>2019-04-30</td>\n",
       "      <td>80.610001</td>\n",
       "      <td>75.940002</td>\n",
       "      <td>-4.669999</td>\n",
       "      <td>-5.793325</td>\n",
       "    </tr>\n",
       "    <tr>\n",
       "      <th>2</th>\n",
       "      <td>2019-05-31</td>\n",
       "      <td>75.000000</td>\n",
       "      <td>80.449997</td>\n",
       "      <td>5.449997</td>\n",
       "      <td>7.266663</td>\n",
       "    </tr>\n",
       "    <tr>\n",
       "      <th>3</th>\n",
       "      <td>2019-06-30</td>\n",
       "      <td>80.599998</td>\n",
       "      <td>86.610001</td>\n",
       "      <td>6.010003</td>\n",
       "      <td>7.456580</td>\n",
       "    </tr>\n",
       "    <tr>\n",
       "      <th>4</th>\n",
       "      <td>2019-07-31</td>\n",
       "      <td>87.550003</td>\n",
       "      <td>81.519997</td>\n",
       "      <td>-6.030006</td>\n",
       "      <td>-6.887499</td>\n",
       "    </tr>\n",
       "    <tr>\n",
       "      <th>...</th>\n",
       "      <td>...</td>\n",
       "      <td>...</td>\n",
       "      <td>...</td>\n",
       "      <td>...</td>\n",
       "      <td>...</td>\n",
       "    </tr>\n",
       "    <tr>\n",
       "      <th>56</th>\n",
       "      <td>2023-11-30</td>\n",
       "      <td>113.290001</td>\n",
       "      <td>134.779999</td>\n",
       "      <td>21.489998</td>\n",
       "      <td>18.969016</td>\n",
       "    </tr>\n",
       "    <tr>\n",
       "      <th>57</th>\n",
       "      <td>2023-12-31</td>\n",
       "      <td>134.220001</td>\n",
       "      <td>142.419998</td>\n",
       "      <td>8.199997</td>\n",
       "      <td>6.109370</td>\n",
       "    </tr>\n",
       "    <tr>\n",
       "      <th>58</th>\n",
       "      <td>2024-01-31</td>\n",
       "      <td>142.190002</td>\n",
       "      <td>145.490005</td>\n",
       "      <td>3.300003</td>\n",
       "      <td>2.320840</td>\n",
       "    </tr>\n",
       "    <tr>\n",
       "      <th>59</th>\n",
       "      <td>2024-02-29</td>\n",
       "      <td>144.220001</td>\n",
       "      <td>155.289993</td>\n",
       "      <td>11.069992</td>\n",
       "      <td>7.675768</td>\n",
       "    </tr>\n",
       "    <tr>\n",
       "      <th>60</th>\n",
       "      <td>2024-03-31</td>\n",
       "      <td>153.190002</td>\n",
       "      <td>168.070007</td>\n",
       "      <td>14.880005</td>\n",
       "      <td>9.713431</td>\n",
       "    </tr>\n",
       "  </tbody>\n",
       "</table>\n",
       "<p>61 rows × 5 columns</p>\n",
       "</div>"
      ],
      "text/plain": [
       "         Date        Open       Close  Price_Difference  Percentage_Change\n",
       "0  2019-03-31   75.820000   80.260002          4.440002           5.855977\n",
       "1  2019-04-30   80.610001   75.940002         -4.669999          -5.793325\n",
       "2  2019-05-31   75.000000   80.449997          5.449997           7.266663\n",
       "3  2019-06-30   80.599998   86.610001          6.010003           7.456580\n",
       "4  2019-07-31   87.550003   81.519997         -6.030006          -6.887499\n",
       "..        ...         ...         ...               ...                ...\n",
       "56 2023-11-30  113.290001  134.779999         21.489998          18.969016\n",
       "57 2023-12-31  134.220001  142.419998          8.199997           6.109370\n",
       "58 2024-01-31  142.190002  145.490005          3.300003           2.320840\n",
       "59 2024-02-29  144.220001  155.289993         11.069992           7.675768\n",
       "60 2024-03-31  153.190002  168.070007         14.880005           9.713431\n",
       "\n",
       "[61 rows x 5 columns]"
      ]
     },
     "metadata": {},
     "output_type": "display_data"
    }
   ],
   "source": [
    "# Calculate Percentage Change in Stock Price\n",
    "\n",
    "# Read the daily stock data from the CSV file\n",
    "stock_data = pd.read_csv('../data/TGT.csv')\n",
    "\n",
    "# Convert the date column to datetime format\n",
    "stock_data['Date'] = pd.to_datetime(stock_data['Date'])\n",
    "\n",
    "# Group the data by month\n",
    "monthly_data = stock_data.groupby(pd.Grouper(key='Date', freq='M')).agg({\n",
    "    'Open': 'first',\n",
    "    'Close': 'last'\n",
    "}).reset_index()\n",
    "\n",
    "# Calculate the price difference between closing and opening prices\n",
    "monthly_data['Price_Difference'] = monthly_data['Close'] - monthly_data['Open']\n",
    "\n",
    "# Calculate the percentage change\n",
    "monthly_data['Percentage_Change'] = (monthly_data['Price_Difference'] / monthly_data['Open']) * 100\n",
    "\n",
    "# Display the percentage change\n",
    "display(monthly_data)"
   ]
  },
  {
   "cell_type": "code",
   "execution_count": 3,
   "id": "a4622580-e23e-421f-8ce7-b8963a5894c9",
   "metadata": {},
   "outputs": [
    {
     "data": {
      "image/png": "[encoded data removed]",
      "text/plain": [
       "<Figure size 1000x600 with 1 Axes>"
      ]
     },
     "metadata": {},
     "output_type": "display_data"
    }
   ],
   "source": [
    "# Plot the percentage change as a graph\n",
    "\n",
    "plt.figure(figsize=(10, 6))\n",
    "plt.plot(monthly_data['Date'], monthly_data['Percentage_Change'], marker='o', color='b', linestyle='-')\n",
    "plt.title('Monthly Percentage Change in Stock Prices for Target')\n",
    "plt.xlabel('Date')\n",
    "plt.ylabel('Percentage Change (%)')\n",
    "plt.grid(True)\n",
    "plt.xticks(rotation=45)\n",
    "plt.tight_layout()\n",
    "plt.show()"
   ]
  },
  {
   "cell_type": "code",
   "execution_count": 4,
   "id": "d80c2439-9ba4-430e-aed7-b741574a3ec0",
   "metadata": {},
   "outputs": [
    {
     "name": "stdout",
     "output_type": "stream",
     "text": [
      "The opening stock price on 2019-03-11 was: 75.82\n"
     ]
    }
   ],
   "source": [
    "# Get the original Opening Price\n",
    "\n",
    "# Read the CSV file into a DataFrame\n",
    "df = pd.read_csv(\"../data/TGT.csv\")\n",
    "\n",
    "# Enter Desired Date\n",
    "desired_date = '2019-03-11'\n",
    "\n",
    "# Filter the DataFrame by the desired date\n",
    "desired_row = df[df['Date'] == desired_date]\n",
    "\n",
    "# Check if any row matched the desired date\n",
    "if not desired_row.empty:\n",
    "    # Retrieve the opening price from the desired row\n",
    "    opening_price = desired_row['Open'].values[0]\n",
    "    print(f\"The opening stock price on {desired_date} was: {opening_price}\")\n",
    "else:\n",
    "    print(f\"No data found for {desired_date}.\")\n",
    "\n",
    "# Save the original opening price\n",
    "original_opening_price = opening_price"
   ]
  },
  {
   "cell_type": "code",
   "execution_count": 5,
   "id": "34cf2465-2fb7-4b5e-9b2c-641d78eb8202",
   "metadata": {},
   "outputs": [
    {
     "name": "stdout",
     "output_type": "stream",
     "text": [
      "The closing stock price on 2024-03-11 was: 168.070007\n"
     ]
    }
   ],
   "source": [
    "# Get the Closing Price after 60 Months\n",
    "\n",
    "# Read the CSV file into a DataFrame\n",
    "df = pd.read_csv(\"../data/TGT.csv\")\n",
    "\n",
    "# Enter Desired Date\n",
    "desired_date = '2024-03-11'\n",
    "\n",
    "# Filter the DataFrame by the desired date\n",
    "desired_row = df[df['Date'] == desired_date]\n",
    "\n",
    "# Check if any row matched the desired date\n",
    "if not desired_row.empty:\n",
    "    # Retrieve the opening price from the desired row\n",
    "    closing_price = desired_row['Close'].values[0]\n",
    "    print(f\"The closing stock price on {desired_date} was: {closing_price}\")\n",
    "else:\n",
    "    print(f\"No data found for {desired_date}.\")\n",
    "\n",
    "# Save this closing price\n",
    "closing_price_after_60_months = closing_price"
   ]
  },
  {
   "cell_type": "code",
   "execution_count": 6,
   "id": "9fd0d398-6bae-4048-91f6-31b87e693c99",
   "metadata": {},
   "outputs": [
    {
     "data": {
      "text/plain": [
       "array([121.66975336])"
      ]
     },
     "metadata": {},
     "output_type": "display_data"
    }
   ],
   "source": [
    "# Calculate % Change in stock price for this period\n",
    "\n",
    "Percentage_change_after_60_months = ([closing_price_after_60_months - original_opening_price] / original_opening_price) * 100\n",
    "display(Percentage_change_after_60_months)"
   ]
  },
  {
   "cell_type": "code",
   "execution_count": 7,
   "id": "90b8f715-459b-437f-8b96-918b70115934",
   "metadata": {},
   "outputs": [
    {
     "name": "stdout",
     "output_type": "stream",
     "text": [
      "The closing stock price on 2023-03-13 was: 159.360001\n"
     ]
    }
   ],
   "source": [
    "# Get the Closing Price after 48 Months\n",
    "\n",
    "# Read the CSV file into a DataFrame\n",
    "df = pd.read_csv(\"../data/TGT.csv\")\n",
    "\n",
    "# Enter Desired Date\n",
    "desired_date = '2023-03-13'\n",
    "\n",
    "# Filter the DataFrame by the desired date\n",
    "desired_row = df[df['Date'] == desired_date]\n",
    "\n",
    "# Check if any row matched the desired date\n",
    "if not desired_row.empty:\n",
    "    # Retrieve the opening price from the desired row\n",
    "    closing_price = desired_row['Close'].values[0]\n",
    "    print(f\"The closing stock price on {desired_date} was: {closing_price}\")\n",
    "else:\n",
    "    print(f\"No data found for {desired_date}.\")\n",
    "\n",
    "# Save this ing price\n",
    "closing_price_after_48_months = closing_price"
   ]
  },
  {
   "cell_type": "code",
   "execution_count": 8,
   "id": "fada5345-b68d-49fd-bfee-cb94a3deb4ed",
   "metadata": {},
   "outputs": [
    {
     "data": {
      "text/plain": [
       "array([110.18201134])"
      ]
     },
     "metadata": {},
     "output_type": "display_data"
    }
   ],
   "source": [
    "# Calculate % Change in stock price for this period\n",
    "\n",
    "Percentage_change_after_48_months = ([closing_price_after_48_months - original_opening_price] / original_opening_price) * 100\n",
    "display(Percentage_change_after_48_months)"
   ]
  },
  {
   "cell_type": "code",
   "execution_count": 9,
   "id": "5741032f-0bfa-4229-b4cf-d0609a88b8cb",
   "metadata": {},
   "outputs": [
    {
     "name": "stdout",
     "output_type": "stream",
     "text": [
      "The closing stock price on 2022-03-14 was: 226.050003\n"
     ]
    }
   ],
   "source": [
    "# Get the Closing Price after 36 Months\n",
    "\n",
    "# Read the CSV file into a DataFrame\n",
    "df = pd.read_csv(\"../data/TGT.csv\")\n",
    "\n",
    "# Enter Desired Date\n",
    "desired_date = '2022-03-14'\n",
    "\n",
    "# Filter the DataFrame by the desired date\n",
    "desired_row = df[df['Date'] == desired_date]\n",
    "\n",
    "# Check if any row matched the desired date\n",
    "if not desired_row.empty:\n",
    "    # Retrieve the opening price from the desired row\n",
    "    closing_price = desired_row['Close'].values[0]\n",
    "    print(f\"The closing stock price on {desired_date} was: {closing_price}\")\n",
    "else:\n",
    "    print(f\"No data found for {desired_date}.\")\n",
    "\n",
    "# Save this closing price\n",
    "closing_price_after_36_months = closing_price"
   ]
  },
  {
   "cell_type": "code",
   "execution_count": 10,
   "id": "1269a4e9-9448-494c-b51b-2d32a04b8908",
   "metadata": {},
   "outputs": [
    {
     "data": {
      "text/plain": [
       "array([198.14033632])"
      ]
     },
     "metadata": {},
     "output_type": "display_data"
    }
   ],
   "source": [
    "# Calculate % Change in stock price for this period\n",
    "\n",
    "Percentage_change_after_36_months = ([closing_price_after_36_months - original_opening_price] / original_opening_price) * 100\n",
    "\n",
    "display(Percentage_change_after_36_months)"
   ]
  },
  {
   "cell_type": "code",
   "execution_count": 11,
   "id": "10c4e3c2-a5e8-4179-8594-606e36dd517c",
   "metadata": {},
   "outputs": [
    {
     "name": "stdout",
     "output_type": "stream",
     "text": [
      "The closing stock price on 2021-03-15 was: 187.550003\n"
     ]
    }
   ],
   "source": [
    "# Get the Closing Price after 24 Months\n",
    "\n",
    "# Read the CSV file into a DataFrame\n",
    "df = pd.read_csv(\"../data/TGT.csv\")\n",
    "\n",
    "# Enter Desired Date\n",
    "desired_date = '2021-03-15'\n",
    "\n",
    "# Filter the DataFrame by the desired date\n",
    "desired_row = df[df['Date'] == desired_date]\n",
    "\n",
    "# Check if any row matched the desired date\n",
    "if not desired_row.empty:\n",
    "    # Retrieve the opening price from the desired row\n",
    "    closing_price = desired_row['Close'].values[0]\n",
    "    print(f\"The closing stock price on {desired_date} was: {closing_price}\")\n",
    "else:\n",
    "    print(f\"No data found for {desired_date}.\")\n",
    "\n",
    "# Save this closing price\n",
    "closing_price_after_24_months = closing_price"
   ]
  },
  {
   "cell_type": "code",
   "execution_count": 12,
   "id": "13f0cd95-26ea-4a05-8049-f2d08066789e",
   "metadata": {},
   "outputs": [
    {
     "data": {
      "text/plain": [
       "array([147.36217753])"
      ]
     },
     "metadata": {},
     "output_type": "display_data"
    }
   ],
   "source": [
    "# Calculate % Change in stock price for this period\n",
    "\n",
    "Percentage_change_after_24_months = ([closing_price_after_24_months - original_opening_price] / original_opening_price) * 100\n",
    "display(Percentage_change_after_24_months)"
   ]
  },
  {
   "cell_type": "code",
   "execution_count": 13,
   "id": "8bfb2607-3a5a-4ea2-8704-43f961f7679f",
   "metadata": {},
   "outputs": [
    {
     "name": "stdout",
     "output_type": "stream",
     "text": [
      "The closing stock price on 2020-03-09 was: 101.019997\n"
     ]
    }
   ],
   "source": [
    "# Get the Closing Price after 12 Months\n",
    "\n",
    "# Read the CSV file into a DataFrame\n",
    "df = pd.read_csv(\"../data/TGT.csv\")\n",
    "\n",
    "# Enter Desired Date\n",
    "desired_date = '2020-03-09'\n",
    "\n",
    "# Filter the DataFrame by the desired date\n",
    "desired_row = df[df['Date'] == desired_date]\n",
    "\n",
    "# Check if any row matched the desired date\n",
    "if not desired_row.empty:\n",
    "    # Retrieve the opening price from the desired row\n",
    "    closing_price = desired_row['Close'].values[0]\n",
    "    print(f\"The closing stock price on {desired_date} was: {closing_price}\")\n",
    "else:\n",
    "    print(f\"No data found for {desired_date}.\")\n",
    "\n",
    "# Save this closing price\n",
    "closing_price_after_12_months = closing_price"
   ]
  },
  {
   "cell_type": "code",
   "execution_count": 14,
   "id": "55786fb0-b276-448a-a63a-c796ffbcfe98",
   "metadata": {},
   "outputs": [
    {
     "data": {
      "text/plain": [
       "array([33.23660907])"
      ]
     },
     "metadata": {},
     "output_type": "display_data"
    }
   ],
   "source": [
    "# Calculate % Change in stock price for this period\n",
    "\n",
    "Percentage_change_after_12_months = ([closing_price_after_12_months - original_opening_price] / original_opening_price) * 100\n",
    "display(Percentage_change_after_12_months)"
   ]
  },
  {
   "cell_type": "code",
   "execution_count": 15,
   "id": "f852e5f1-c0f9-49f7-90af-dbc003cd6f2c",
   "metadata": {},
   "outputs": [
    {
     "data": {
      "image/png": "[encoded data removed]",
      "text/plain": [
       "<Figure size 640x480 with 1 Axes>"
      ]
     },
     "metadata": {},
     "output_type": "display_data"
    }
   ],
   "source": [
    "import matplotlib.pyplot as plt\n",
    "\n",
    "# Example data: percentage changes after 12, 24, and 36 months\n",
    "months = ['After 12 Months', 'After 24 Months', 'After 36 Months', 'After 48 Months', 'After 60 Months']\n",
    "percentage_changes = [33.23660907,  147.36217753, 198.14033632, 110.18201134, 121.66975336]\n",
    "\n",
    "# Plotting the bar chart\n",
    "plt.bar(months, percentage_changes, color='skyblue')\n",
    "\n",
    "# Adding labels and title\n",
    "plt.xlabel('Length of Investment')\n",
    "plt.xticks(rotation=90)\n",
    "plt.ylabel('Percentage Change')\n",
    "plt.title('Percentage Change to Stock Price for Target over Time')\n",
    "\n",
    "# Display the plot\n",
    "plt.show()"
   ]
  },
  {
   "cell_type": "code",
   "execution_count": null,
   "id": "ae926b40-961c-49de-b95c-18cd97987640",
   "metadata": {},
   "outputs": [],
   "source": []
  }
 ],
 "metadata": {
  "kernelspec": {
   "display_name": "Python 3 (ipykernel)",
   "language": "python",
   "name": "python3"
  },
  "language_info": {
   "codemirror_mode": {
    "name": "ipython",
    "version": 3
   },
   "file_extension": ".py",
   "mimetype": "text/x-python",
   "name": "python",
   "nbconvert_exporter": "python",
   "pygments_lexer": "ipython3",
   "version": "3.11.8"
  },
  "widgets": {
   "application/vnd.jupyter.widget-state+json": {
    "state": {},
    "version_major": 2,
    "version_minor": 0
   }
  }
 },
 "nbformat": 4,
 "nbformat_minor": 5
}
